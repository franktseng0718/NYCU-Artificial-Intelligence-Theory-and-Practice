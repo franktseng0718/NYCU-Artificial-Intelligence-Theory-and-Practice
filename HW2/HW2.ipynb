{
 "cells": [
  {
   "cell_type": "code",
   "execution_count": 1,
   "metadata": {},
   "outputs": [
    {
     "name": "stdout",
     "output_type": "stream",
     "text": [
      "1 0.1 110.00000000000001\n",
      "2 0.05 110.25\n",
      "4 0.025 110.38128906249996\n",
      "12 0.008333333333333333 110.47130674412968\n",
      "52 0.0019230769230769232 110.50647927797661\n",
      "365 0.00027397260273972606 110.51557816162325\n"
     ]
    }
   ],
   "source": [
    "m = 2\n",
    "for m in [1, 2, 4, 12, 52, 365]:\n",
    "    print(m, 0.1/m, 100*(1+0.1/m)**m)"
   ]
  },
  {
   "cell_type": "code",
   "execution_count": 5,
   "metadata": {},
   "outputs": [
    {
     "data": {
      "text/plain": [
       "110.51709180756477"
      ]
     },
     "execution_count": 5,
     "metadata": {},
     "output_type": "execute_result"
    }
   ],
   "source": [
    "import math\n",
    "100*math.exp(0.1)"
   ]
  },
  {
   "cell_type": "markdown",
   "metadata": {},
   "source": [
    "# Black Shoels"
   ]
  },
  {
   "cell_type": "code",
   "execution_count": 14,
   "metadata": {},
   "outputs": [],
   "source": [
    "import math\n",
    "from scipy.stats import norm\n",
    "import numpy as np\n",
    "\n",
    "def blscall(S, K, T, r, vol):\n",
    "    d1 = (math.log(S/K) + (r + vol*vol/2)*T) / (vol*math.sqrt(T))\n",
    "    d2 = d1 - vol*math.sqrt(T)\n",
    "    c = S * norm.cdf(d1) - K * math.exp(-r*T) * norm.cdf(d2)\n",
    "    return c\n",
    "\n",
    "def f(S, K, T, r, vol, call):\n",
    "    return blscall(S, K, T, r, vol) - call\n",
    "    \n",
    "def BisectionBLS(S, K, T, r, call):\n",
    "    left = 1e-8\n",
    "    right = 1\n",
    "    threshold = 1e-5\n",
    "    while right - left >= threshold:\n",
    "        middle = (left + right) / 2\n",
    "        if f(S, K, T, r, left, call) * f(S, K, T, r, middle, call) < 0:\n",
    "            right = middle\n",
    "        else:\n",
    "            left = middle\n",
    "    return (right+left) / 2\n",
    "\n",
    "\n"
   ]
  },
  {
   "cell_type": "code",
   "execution_count": null,
   "metadata": {},
   "outputs": [],
   "source": [
    "Index = np.arange(13000, 15100, 100)\n",
    "Call = [675, 610, 525, 448, 395, 345, 289, 238, 194, 153, 120, 92, 69, 52, 39.5, 28, 20.5, 16, 12, 9.8, 8.5]\n",
    "Put = [139, 163, 189, 221, 255, 291, 338, 388, 439, 505, 565, 640, 730, 800, 900, 995, 1090, 1180, 1290, 1380, 1470]"
   ]
  },
  {
   "cell_type": "markdown",
   "metadata": {},
   "source": [
    "# 1."
   ]
  },
  {
   "cell_type": "code",
   "execution_count": 18,
   "metadata": {},
   "outputs": [
    {
     "name": "stdout",
     "output_type": "stream",
     "text": [
      "0.24842453754505156\n"
     ]
    }
   ],
   "source": [
    "S = 13552.46\n",
    "K = 13000\n",
    "T = 21 / 365\n",
    "r = 0.0165"
   ]
  },
  {
   "cell_type": "markdown",
   "metadata": {},
   "source": [
    "# 2."
   ]
  },
  {
   "cell_type": "code",
   "execution_count": null,
   "metadata": {},
   "outputs": [],
   "source": []
  }
 ],
 "metadata": {
  "kernelspec": {
   "display_name": "Python 3.9.5 64-bit",
   "language": "python",
   "name": "python3"
  },
  "language_info": {
   "codemirror_mode": {
    "name": "ipython",
    "version": 3
   },
   "file_extension": ".py",
   "mimetype": "text/x-python",
   "name": "python",
   "nbconvert_exporter": "python",
   "pygments_lexer": "ipython3",
   "version": "3.9.5"
  },
  "orig_nbformat": 4,
  "vscode": {
   "interpreter": {
    "hash": "2e69600ff52754dd5d99f05b77d048424524bb01a2da2068de88c23bd170fca4"
   }
  }
 },
 "nbformat": 4,
 "nbformat_minor": 2
}
